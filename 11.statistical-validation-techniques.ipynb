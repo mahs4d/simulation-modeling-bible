{
 "cells": [
  {
   "cell_type": "markdown",
   "metadata": {},
   "source": [
    "# Chi-Square Fit Test (Descrete)"
   ]
  },
  {
   "cell_type": "code",
   "execution_count": 5,
   "metadata": {},
   "outputs": [],
   "source": [
    "import random\n",
    "from scipy import stats"
   ]
  },
  {
   "cell_type": "code",
   "execution_count": 6,
   "metadata": {},
   "outputs": [],
   "source": [
    "def cs_compute_t(n_i_list, h0):\n",
    "    n = sum([x[1] for x in n_i_list])\n",
    "    \n",
    "    # compute T\n",
    "    t = 0\n",
    "    for i, n_i in n_i_list:\n",
    "        n_p_i = n * h0(i)\n",
    "        t += ((n_i - n_p_i)**2) / n_p_i\n",
    "    \n",
    "    return t"
   ]
  },
  {
   "cell_type": "code",
   "execution_count": 7,
   "metadata": {},
   "outputs": [],
   "source": [
    "def cs_compute_pvalue(t, k):\n",
    "    return 1 - stats.chi2.cdf(t, k - 1)"
   ]
  },
  {
   "cell_type": "code",
   "execution_count": 8,
   "metadata": {},
   "outputs": [],
   "source": [
    "def cs_compute_pvalue_simulation(t, h0, valid_values, iterations=1000):\n",
    "    n_larger_than_t = 0\n",
    "    \n",
    "    def gen_n_i_list(samples):\n",
    "        ret = []\n",
    "        for v in valid_values:\n",
    "            ret.append((v, samples.count(v)))\n",
    "        \n",
    "        return ret\n",
    "    \n",
    "    for i in range(iterations):\n",
    "        samples = generate_descrete_samples(h0)\n",
    "        n_i_list = gen_n_i_list(samples)\n",
    "        sim_t = cs_compute_t(n_i_list, h0)\n",
    "        if sim_t >= t:\n",
    "            n_larger_than_t += 1\n",
    "    \n",
    "    return n_larger_than_t / iterations\n",
    "        "
   ]
  },
  {
   "cell_type": "code",
   "execution_count": 9,
   "metadata": {},
   "outputs": [],
   "source": [
    "def cs_is_hypothesis_accepted(pvalue, threshold=0.05):\n",
    "    return pvalue > threshold"
   ]
  },
  {
   "cell_type": "markdown",
   "metadata": {},
   "source": [
    "### Chi-Square Example"
   ]
  },
  {
   "cell_type": "code",
   "execution_count": 10,
   "metadata": {},
   "outputs": [
    {
     "name": "stdout",
     "output_type": "stream",
     "text": [
      "hypothesis was rejected with pvalue: 0.012295523821487131 and t: 12.8\n"
     ]
    }
   ],
   "source": [
    "def cs_example():\n",
    "    n_i_list = [(1, 12), (2, 5), (3, 19), (4, 7), (5, 7)] # (2, 12) means that in samples we had 12 occurances of 2\n",
    "    h0_function = lambda i: 0.2\n",
    "\n",
    "    t = cs_compute_t(n_i_list, h0_function)\n",
    "    pvalue = cs_compute_pvalue(t, len(n_i_list))\n",
    "    is_accepted = cs_is_hypothesis_accepted(pvalue)\n",
    "    \n",
    "    if is_accepted:\n",
    "        print(f'hypothesis was accepted with pvalue: {pvalue} and t: {t}')\n",
    "    else:\n",
    "        print(f'hypothesis was rejected with pvalue: {pvalue} and t: {t}')\n",
    "\n",
    "cs_example()"
   ]
  },
  {
   "cell_type": "markdown",
   "metadata": {},
   "source": [
    "___"
   ]
  },
  {
   "cell_type": "markdown",
   "metadata": {},
   "source": [
    "# Kolmogrov-Smronov Fit Test (Continuous)"
   ]
  },
  {
   "cell_type": "code",
   "execution_count": 11,
   "metadata": {},
   "outputs": [],
   "source": [
    "import math\n",
    "import random"
   ]
  },
  {
   "cell_type": "code",
   "execution_count": 12,
   "metadata": {},
   "outputs": [],
   "source": [
    "def ks_compute_d(sim_samples, h0):\n",
    "    n = len(sim_samples)\n",
    "    \n",
    "    # 1. sort simulation values (y)\n",
    "    sim_samples.sort()\n",
    "    y_list = sim_samples\n",
    "    \n",
    "    # 2. compute (j/n) - H0(y[j]) for all js\n",
    "    f_fe_list = [((j/n) - h0(y_list[j-1])) for j in range(1, n+1)]\n",
    "    \n",
    "    # 3. compute H0(y[j]) - ((j-1)/n) for all js\n",
    "    fe_f_list = [(h0(y_list[j-1]) - ((j-1)/n)) for j in range(1, n+1)]\n",
    "    \n",
    "    # 4. return d as maximum of step 2 and 3 results\n",
    "    return max([max(f_fe_list), max(fe_f_list)])    "
   ]
  },
  {
   "cell_type": "code",
   "execution_count": 13,
   "metadata": {},
   "outputs": [],
   "source": [
    "def ks_compute_pvalue(d, n, iterations=1000):\n",
    "    p = 0\n",
    "    \n",
    "    for i in range(iterations):\n",
    "        # generate n uniform random variables\n",
    "        u_list = [random.random() for j in range(n)]\n",
    "        u_list.sort()\n",
    "        \n",
    "        # generate f_fe and fe_f list for these u list\n",
    "        f_fe_list = [((j/n) - u_list[j-1]) for j in range(1, n+1)]\n",
    "        fe_f_list = [(u_list[j-1] - ((j-1)/n)) for j in range(1, n+1)]\n",
    "        \n",
    "        # add number of items that are more than d in the preceding lists\n",
    "        p += len([x for x in f_fe_list if x >= d])\n",
    "        p += len([x for x in fe_f_list if x >= d])\n",
    "    \n",
    "    return p/iterations"
   ]
  },
  {
   "cell_type": "code",
   "execution_count": 14,
   "metadata": {},
   "outputs": [],
   "source": [
    "def ks_is_hypothesis_accepted(pvalue, threshold=0.05):\n",
    "    return pvalue > threshold"
   ]
  },
  {
   "cell_type": "markdown",
   "metadata": {},
   "source": [
    "### Kolmogrov-Smronov Example"
   ]
  },
  {
   "cell_type": "code",
   "execution_count": 15,
   "metadata": {},
   "outputs": [
    {
     "name": "stdout",
     "output_type": "stream",
     "text": [
      "hypothesis was rejected with pvalue: 0.011 and d: 0.4831486655083008\n"
     ]
    }
   ],
   "source": [
    "def ks_example():\n",
    "    sim_samples = [66, 72, 81, 94, 112, 116, 124, 140, 145, 155]\n",
    "    h0_function = lambda x: (1 - math.exp((-x)/100))\n",
    "\n",
    "    d = ks_compute_d(sim_samples, h0_function)\n",
    "    pvalue = ks_compute_pvalue(d, 10)\n",
    "    is_accepted = ks_is_hypothesis_accepted(pvalue)\n",
    "\n",
    "    if is_accepted:\n",
    "        print(f'hypothesis was accepted with pvalue: {pvalue} and d: {d}')\n",
    "    else:\n",
    "        print(f'hypothesis was rejected with pvalue: {pvalue} and d: {d}')\n",
    "\n",
    "ks_example()"
   ]
  },
  {
   "cell_type": "markdown",
   "metadata": {},
   "source": [
    "___"
   ]
  },
  {
   "cell_type": "markdown",
   "metadata": {},
   "source": [
    "# Unknown Parameter (Descrete)\n",
    "\n",
    "- first compute parameters\n",
    "- write the hypothesis function that computes for example poisson(i, my_parameters) foreach i and returns probabilities\n",
    "- compute number of occurances for each i and save it in n_i_list\n",
    "- compute t using cs_compute_t\n",
    "- compute pvalue using chi-square cs_compute_pvalue but instead of \"k\" pass \"k-m\" to the function\n",
    "- if pvalue < threshold => reject else => accept"
   ]
  },
  {
   "cell_type": "code",
   "execution_count": 16,
   "metadata": {},
   "outputs": [
    {
     "name": "stdout",
     "output_type": "stream",
     "text": [
      "hypothesis was rejected with pvalue: 0.0005257103814344521 and t: 19.887012712014464\n"
     ]
    }
   ],
   "source": [
    "def udp_example_h0(i):\n",
    "    if i != 6:\n",
    "        numerator1 = math.exp(-2.9)\n",
    "        numerator2 = (2.9) ** (i-1)\n",
    "        denominator = math.factorial(i-1)\n",
    "    else:\n",
    "        ps = sum([udp_example_h0(x) for x in range(1, 6)])\n",
    "        return 1 - ps\n",
    "    \n",
    "    return (numerator1 * numerator2) / denominator\n",
    "\n",
    "def upd_example():\n",
    "    n_i_list = [(1, 6), (2, 2), (3, 1), (4, 9), (5, 7), (6, 5)]\n",
    "    m = 1 # number of unknown parameters\n",
    "    \n",
    "    t = cs_compute_t(n_i_list, udp_example_h0)\n",
    "    pvalue = cs_compute_pvalue(t, len(n_i_list) - m)\n",
    "    is_accepted = cs_is_hypothesis_accepted(pvalue)\n",
    "    \n",
    "    if is_accepted:\n",
    "        print(f'hypothesis was accepted with pvalue: {pvalue} and t: {t}')\n",
    "    else:\n",
    "        print(f'hypothesis was rejected with pvalue: {pvalue} and t: {t}')\n",
    "\n",
    "upd_example()"
   ]
  }
 ],
 "metadata": {
  "kernelspec": {
   "display_name": "Python 3",
   "language": "python",
   "name": "python3"
  },
  "language_info": {
   "codemirror_mode": {
    "name": "ipython",
    "version": 3
   },
   "file_extension": ".py",
   "mimetype": "text/x-python",
   "name": "python",
   "nbconvert_exporter": "python",
   "pygments_lexer": "ipython3",
   "version": "3.6.9"
  }
 },
 "nbformat": 4,
 "nbformat_minor": 4
}
