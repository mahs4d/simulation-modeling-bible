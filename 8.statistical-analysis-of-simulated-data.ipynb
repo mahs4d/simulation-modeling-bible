{
 "cells": [
  {
   "cell_type": "code",
   "execution_count": 31,
   "metadata": {},
   "outputs": [],
   "source": [
    "import math\n",
    "import random\n",
    "from scipy import stats"
   ]
  },
  {
   "cell_type": "code",
   "execution_count": 32,
   "metadata": {},
   "outputs": [],
   "source": [
    "def compute_sample_mean(samples):\n",
    "    return float(sum(samples)) / len(samples)\n",
    "\n",
    "def compute_sample_variance(samples, mean):\n",
    "    a = [(x - mean)**2 for x in samples]\n",
    "    return float(sum(a)) / (len(samples) - 1)"
   ]
  },
  {
   "cell_type": "markdown",
   "metadata": {},
   "source": [
    "___\n",
    "![compute_p_var_c](./media/compute_p_var_c.png)\n",
    "![compute_p_var_c_desc](./media/compute_p_var_c_desc.png)"
   ]
  },
  {
   "cell_type": "code",
   "execution_count": 33,
   "metadata": {},
   "outputs": [],
   "source": [
    "def compute_p_var_c(c):\n",
    "    return 2 * (1 - stats.norm(0, 1).cdf(c))"
   ]
  },
  {
   "cell_type": "markdown",
   "metadata": {},
   "source": [
    "![generate_samples_for_mean](./media/generate_samples_for_mean.png)"
   ]
  },
  {
   "cell_type": "code",
   "execution_count": 42,
   "metadata": {},
   "outputs": [
    {
     "data": {
      "text/plain": [
       "855"
      ]
     },
     "execution_count": 42,
     "metadata": {},
     "output_type": "execute_result"
    }
   ],
   "source": [
    "def generate_samples_for_mean(d, f):\n",
    "    # d: target standard deviation\n",
    "    # f: function to generate new samples\n",
    "    k = 0\n",
    "    samples = []\n",
    "    \n",
    "    while True:\n",
    "        new_sample = f()\n",
    "        samples.append(new_sample)\n",
    "        k += 1\n",
    "        \n",
    "        if k < 100:\n",
    "            continue\n",
    "        \n",
    "        mean = compute_sample_mean(samples)\n",
    "        var = compute_sample_variance(samples, mean)\n",
    "        \n",
    "        if math.sqrt(var/k) < d:\n",
    "            break\n",
    "    \n",
    "    return samples\n",
    "\n",
    "len(generate_samples_for_mean(0.01, random.random))"
   ]
  }
 ],
 "metadata": {
  "kernelspec": {
   "display_name": "Python 3",
   "language": "python",
   "name": "python3"
  },
  "language_info": {
   "codemirror_mode": {
    "name": "ipython",
    "version": 3
   },
   "file_extension": ".py",
   "mimetype": "text/x-python",
   "name": "python",
   "nbconvert_exporter": "python",
   "pygments_lexer": "ipython3",
   "version": "3.6.9"
  }
 },
 "nbformat": 4,
 "nbformat_minor": 4
}
