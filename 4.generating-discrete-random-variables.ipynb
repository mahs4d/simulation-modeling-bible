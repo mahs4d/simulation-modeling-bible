{
 "cells": [
  {
   "cell_type": "code",
   "execution_count": 2,
   "metadata": {},
   "outputs": [],
   "source": [
    "import math\n",
    "import random"
   ]
  },
  {
   "cell_type": "markdown",
   "metadata": {},
   "source": [
    "# Inverse Transform Method (Descrete)"
   ]
  },
  {
   "cell_type": "code",
   "execution_count": 3,
   "metadata": {},
   "outputs": [],
   "source": [
    "def itm_create_random_generator(v_p_list):\n",
    "    def rand_gen():\n",
    "        f = 0\n",
    "        for v_p in v_p_list:\n",
    "            u = random.random()\n",
    "            f += v_p[1]\n",
    "            if u < f:\n",
    "                return v_p[0]\n",
    "    \n",
    "    return rand_gen\n",
    "\n",
    "rg = itm_create_random_generator([(1,0.8), (2, 0.2)])"
   ]
  },
  {
   "cell_type": "markdown",
   "metadata": {},
   "source": [
    "# Acceptance-Rejection Method (Descrete)"
   ]
  },
  {
   "cell_type": "code",
   "execution_count": 27,
   "metadata": {},
   "outputs": [
    {
     "name": "stdout",
     "output_type": "stream",
     "text": [
      "2.548\n"
     ]
    }
   ],
   "source": [
    "def arm_d_create_random_generator(p, q, c=None):\n",
    "    if c is None:\n",
    "        c = min([p[i]/q[i] for i in range(len(p))])\n",
    "        print(f'c is {c}')\n",
    "        \n",
    "    v_q_list = [(i, qv) for i, qv in enumerate(q)]\n",
    "    y_rand_gen = itm_create_random_generator(v_q_list)\n",
    "    def rand_gen():\n",
    "        while True:\n",
    "            y = y_rand_gen()\n",
    "            u = random.random()\n",
    "            \n",
    "            if u <= p[y]/(c*q[y]):\n",
    "                return y\n",
    "    \n",
    "    return rand_gen\n",
    "\n",
    "p = [0.11, 0.12,0.09,0.08,0.12,0.10,0.09,0.09,0.10,0.10]\n",
    "rg = arm_create_random_generator(p, [0.1]*10, 1.2)\n",
    "rg2 = itm_create_random_generator([(i,pv) for i, pv in enumerate(p)])\n",
    "s = 0\n",
    "for i in range(10000):\n",
    "    s += rg2()\n",
    "\n",
    "print(s/10000)"
   ]
  },
  {
   "cell_type": "markdown",
   "metadata": {},
   "source": [
    "# Acceptance-Rejection Method (Continuous)"
   ]
  },
  {
   "cell_type": "code",
   "execution_count": 29,
   "metadata": {},
   "outputs": [],
   "source": [
    "def arm_c_create_random_generator(f, g, G_inverse, c):\n",
    "    def rand_gen():\n",
    "        while True:\n",
    "            y = G_inverse(random.random())\n",
    "            \n",
    "            u2 = random.random()\n",
    "            if u2 <= f(y)/(c*g(y)):\n",
    "                return y"
   ]
  }
 ],
 "metadata": {
  "kernelspec": {
   "display_name": "Python 3",
   "language": "python",
   "name": "python3"
  },
  "language_info": {
   "codemirror_mode": {
    "name": "ipython",
    "version": 3
   },
   "file_extension": ".py",
   "mimetype": "text/x-python",
   "name": "python",
   "nbconvert_exporter": "python",
   "pygments_lexer": "ipython3",
   "version": "3.6.9"
  }
 },
 "nbformat": 4,
 "nbformat_minor": 4
}
