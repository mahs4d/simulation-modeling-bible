{
 "cells": [
  {
   "cell_type": "markdown",
   "metadata": {},
   "source": [
    "# Chi-Square Fit Test (Descrete)"
   ]
  },
  {
   "cell_type": "code",
   "execution_count": 116,
   "metadata": {},
   "outputs": [],
   "source": [
    "import random\n",
    "from scipy import stats"
   ]
  },
  {
   "cell_type": "code",
   "execution_count": 117,
   "metadata": {},
   "outputs": [],
   "source": [
    "def cs_compute_t(n_i_list, h0_function):\n",
    "    n = sum(n_i_list)\n",
    "    \n",
    "    # compute T\n",
    "    t = 0\n",
    "    for i, n_i in enumerate(n_i_list):\n",
    "        n_p_i = n * h0_function(i)\n",
    "        t += ((n_i - n_p_i)**2) / n_p_i\n",
    "    \n",
    "    return t"
   ]
  },
  {
   "cell_type": "code",
   "execution_count": 118,
   "metadata": {},
   "outputs": [],
   "source": [
    "def cs_compute_pvalue(t, k):\n",
    "    return 1 - stats.chi2.cdf(t, k - 1)"
   ]
  },
  {
   "cell_type": "code",
   "execution_count": 119,
   "metadata": {},
   "outputs": [],
   "source": [
    "def cs_is_hypothesis_accepted(pvalue, threshold=0.05):\n",
    "    return pvalue > threshold"
   ]
  },
  {
   "cell_type": "markdown",
   "metadata": {},
   "source": [
    "### Chi-Square Example"
   ]
  },
  {
   "cell_type": "code",
   "execution_count": 120,
   "metadata": {},
   "outputs": [
    {
     "name": "stdout",
     "output_type": "stream",
     "text": [
      "hypothesis was not accepted with pvalue: 0.012295523821487131 and t: 12.8\n"
     ]
    }
   ],
   "source": [
    "def cs_example():\n",
    "    n_i_list = [12, 5, 19, 7, 7] # n_i_list[i]=x shows that i'th sample was repeated x times in simulation\n",
    "    h0_function = lambda i: 0.2\n",
    "\n",
    "    t = cs_compute_t(n_i_list, h0_function)\n",
    "    pvalue = cs_compute_pvalue(t, len(n_i_list))\n",
    "    is_accepted = cs_is_hypothesis_accepted(pvalue)\n",
    "    \n",
    "    if is_accepted:\n",
    "        print(f'hypothesis was accepted with pvalue: {pvalue} and t: {t}')\n",
    "    else:\n",
    "        print(f'hypothesis was not accepted with pvalue: {pvalue} and t: {t}')\n",
    "\n",
    "cs_example()"
   ]
  },
  {
   "cell_type": "markdown",
   "metadata": {},
   "source": [
    "___"
   ]
  },
  {
   "cell_type": "markdown",
   "metadata": {},
   "source": [
    "# Kolmogrov-Smronov Fit Test (Continuous)"
   ]
  },
  {
   "cell_type": "code",
   "execution_count": 121,
   "metadata": {},
   "outputs": [],
   "source": [
    "import math\n",
    "import random"
   ]
  },
  {
   "cell_type": "code",
   "execution_count": 122,
   "metadata": {},
   "outputs": [],
   "source": [
    "def ks_compute_d(sim_samples, h0_function):\n",
    "    n = len(sim_samples)\n",
    "    \n",
    "    # 1. sort simulation values (y)\n",
    "    sim_samples.sort()\n",
    "    y_list = sim_samples\n",
    "    \n",
    "    # 2. compute (j/n) - H0(y[j]) for all js\n",
    "    f_fe_list = [((j/n) - h0_function(y_list[j-1])) for j in range(1, n+1)]\n",
    "    \n",
    "    # 3. compute H0(y[j]) - ((j-1)/n) for all js\n",
    "    fe_f_list = [(h0_function(y_list[j-1]) - ((j-1)/n)) for j in range(1, n+1)]\n",
    "    \n",
    "    # 4. return d as maximum of step 2 and 3 results\n",
    "    return max([max(f_fe_list), max(fe_f_list)])    "
   ]
  },
  {
   "cell_type": "code",
   "execution_count": 123,
   "metadata": {},
   "outputs": [],
   "source": [
    "def ks_compute_pvalue(d, n, iterations=1000):\n",
    "    p = 0\n",
    "    \n",
    "    for i in range(iterations):\n",
    "        # generate n uniform random variables\n",
    "        u_list = [random.random() for j in range(n)]\n",
    "        u_list.sort()\n",
    "        \n",
    "        # generate f_fe and fe_f list for these u list\n",
    "        f_fe_list = [((j/n) - u_list[j-1]) for j in range(1, n+1)]\n",
    "        fe_f_list = [(u_list[j-1] - ((j-1)/n)) for j in range(1, n+1)]\n",
    "        \n",
    "        # add number of items that are more than d in the preceding lists\n",
    "        p += len([x for x in f_fe_list if x >= d])\n",
    "        p += len([x for x in fe_f_list if x >= d])\n",
    "    \n",
    "    return p/iterations"
   ]
  },
  {
   "cell_type": "code",
   "execution_count": 124,
   "metadata": {},
   "outputs": [],
   "source": [
    "def ks_is_hypothesis_accepted(pvalue, threshold=0.05):\n",
    "    return pvalue > threshold"
   ]
  },
  {
   "cell_type": "markdown",
   "metadata": {},
   "source": [
    "### Kolmogrov-Smronov Example"
   ]
  },
  {
   "cell_type": "code",
   "execution_count": 125,
   "metadata": {},
   "outputs": [
    {
     "name": "stdout",
     "output_type": "stream",
     "text": [
      "hypothesis was not accepted with pvalue: 0.013\n"
     ]
    }
   ],
   "source": [
    "def ks_example():\n",
    "    sim_samples = [66, 72, 81, 94, 112, 116, 124, 140, 145, 155]\n",
    "    h0_function = lambda x: (1 - math.exp((-x)/100))\n",
    "\n",
    "    d = ks_compute_d(sim_samples, h0_function)\n",
    "    pvalue = ks_compute_pvalue(d, 10)\n",
    "    is_accepted = ks_is_hypothesis_accepted(pvalue)\n",
    "\n",
    "    if is_accepted:\n",
    "        print(f'hypothesis was accepted with pvalue: {pvalue}')\n",
    "    else:\n",
    "        print(f'hypothesis was not accepted with pvalue: {pvalue}')\n",
    "\n",
    "ks_example()"
   ]
  },
  {
   "cell_type": "markdown",
   "metadata": {},
   "source": [
    "___"
   ]
  },
  {
   "cell_type": "code",
   "execution_count": null,
   "metadata": {},
   "outputs": [],
   "source": []
  }
 ],
 "metadata": {
  "kernelspec": {
   "display_name": "Python 3",
   "language": "python",
   "name": "python3"
  },
  "language_info": {
   "codemirror_mode": {
    "name": "ipython",
    "version": 3
   },
   "file_extension": ".py",
   "mimetype": "text/x-python",
   "name": "python",
   "nbconvert_exporter": "python",
   "pygments_lexer": "ipython3",
   "version": "3.6.9"
  }
 },
 "nbformat": 4,
 "nbformat_minor": 4
}
